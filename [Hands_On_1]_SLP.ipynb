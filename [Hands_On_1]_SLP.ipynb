{
  "nbformat": 4,
  "nbformat_minor": 0,
  "metadata": {
    "colab": {
      "provenance": []
    },
    "kernelspec": {
      "name": "python3",
      "display_name": "Python 3"
    },
    "language_info": {
      "name": "python"
    }
  },
  "cells": [
    {
      "cell_type": "markdown",
      "source": [
        "##Tahap 1"
      ],
      "metadata": {
        "id": "ZIEVxTdyNqWJ"
      }
    },
    {
      "cell_type": "code",
      "source": [
        "import pandas as pd\n",
        "import numpy as np\n",
        "import math\n",
        "import matplotlib.pyplot as plt"
      ],
      "metadata": {
        "id": "gy9Jqh8bxye3"
      },
      "execution_count": null,
      "outputs": []
    },
    {
      "cell_type": "code",
      "source": [
        "from google.colab import files\n",
        "uploaded = files.upload()"
      ],
      "metadata": {
        "colab": {
          "base_uri": "https://localhost:8080/",
          "height": 109
        },
        "id": "61uuaBOg23Nt",
        "outputId": "05bc3c0c-6184-48c8-bce1-27c6e9c10406"
      },
      "execution_count": null,
      "outputs": [
        {
          "output_type": "display_data",
          "data": {
            "text/plain": [
              "<IPython.core.display.HTML object>"
            ],
            "text/html": [
              "\n",
              "     <input type=\"file\" id=\"files-ae8df5be-5f82-46a4-8503-17898d1a6ae8\" name=\"files[]\" multiple disabled\n",
              "        style=\"border:none\" />\n",
              "     <output id=\"result-ae8df5be-5f82-46a4-8503-17898d1a6ae8\">\n",
              "      Upload widget is only available when the cell has been executed in the\n",
              "      current browser session. Please rerun this cell to enable.\n",
              "      </output>\n",
              "      <script>// Copyright 2017 Google LLC\n",
              "//\n",
              "// Licensed under the Apache License, Version 2.0 (the \"License\");\n",
              "// you may not use this file except in compliance with the License.\n",
              "// You may obtain a copy of the License at\n",
              "//\n",
              "//      http://www.apache.org/licenses/LICENSE-2.0\n",
              "//\n",
              "// Unless required by applicable law or agreed to in writing, software\n",
              "// distributed under the License is distributed on an \"AS IS\" BASIS,\n",
              "// WITHOUT WARRANTIES OR CONDITIONS OF ANY KIND, either express or implied.\n",
              "// See the License for the specific language governing permissions and\n",
              "// limitations under the License.\n",
              "\n",
              "/**\n",
              " * @fileoverview Helpers for google.colab Python module.\n",
              " */\n",
              "(function(scope) {\n",
              "function span(text, styleAttributes = {}) {\n",
              "  const element = document.createElement('span');\n",
              "  element.textContent = text;\n",
              "  for (const key of Object.keys(styleAttributes)) {\n",
              "    element.style[key] = styleAttributes[key];\n",
              "  }\n",
              "  return element;\n",
              "}\n",
              "\n",
              "// Max number of bytes which will be uploaded at a time.\n",
              "const MAX_PAYLOAD_SIZE = 100 * 1024;\n",
              "\n",
              "function _uploadFiles(inputId, outputId) {\n",
              "  const steps = uploadFilesStep(inputId, outputId);\n",
              "  const outputElement = document.getElementById(outputId);\n",
              "  // Cache steps on the outputElement to make it available for the next call\n",
              "  // to uploadFilesContinue from Python.\n",
              "  outputElement.steps = steps;\n",
              "\n",
              "  return _uploadFilesContinue(outputId);\n",
              "}\n",
              "\n",
              "// This is roughly an async generator (not supported in the browser yet),\n",
              "// where there are multiple asynchronous steps and the Python side is going\n",
              "// to poll for completion of each step.\n",
              "// This uses a Promise to block the python side on completion of each step,\n",
              "// then passes the result of the previous step as the input to the next step.\n",
              "function _uploadFilesContinue(outputId) {\n",
              "  const outputElement = document.getElementById(outputId);\n",
              "  const steps = outputElement.steps;\n",
              "\n",
              "  const next = steps.next(outputElement.lastPromiseValue);\n",
              "  return Promise.resolve(next.value.promise).then((value) => {\n",
              "    // Cache the last promise value to make it available to the next\n",
              "    // step of the generator.\n",
              "    outputElement.lastPromiseValue = value;\n",
              "    return next.value.response;\n",
              "  });\n",
              "}\n",
              "\n",
              "/**\n",
              " * Generator function which is called between each async step of the upload\n",
              " * process.\n",
              " * @param {string} inputId Element ID of the input file picker element.\n",
              " * @param {string} outputId Element ID of the output display.\n",
              " * @return {!Iterable<!Object>} Iterable of next steps.\n",
              " */\n",
              "function* uploadFilesStep(inputId, outputId) {\n",
              "  const inputElement = document.getElementById(inputId);\n",
              "  inputElement.disabled = false;\n",
              "\n",
              "  const outputElement = document.getElementById(outputId);\n",
              "  outputElement.innerHTML = '';\n",
              "\n",
              "  const pickedPromise = new Promise((resolve) => {\n",
              "    inputElement.addEventListener('change', (e) => {\n",
              "      resolve(e.target.files);\n",
              "    });\n",
              "  });\n",
              "\n",
              "  const cancel = document.createElement('button');\n",
              "  inputElement.parentElement.appendChild(cancel);\n",
              "  cancel.textContent = 'Cancel upload';\n",
              "  const cancelPromise = new Promise((resolve) => {\n",
              "    cancel.onclick = () => {\n",
              "      resolve(null);\n",
              "    };\n",
              "  });\n",
              "\n",
              "  // Wait for the user to pick the files.\n",
              "  const files = yield {\n",
              "    promise: Promise.race([pickedPromise, cancelPromise]),\n",
              "    response: {\n",
              "      action: 'starting',\n",
              "    }\n",
              "  };\n",
              "\n",
              "  cancel.remove();\n",
              "\n",
              "  // Disable the input element since further picks are not allowed.\n",
              "  inputElement.disabled = true;\n",
              "\n",
              "  if (!files) {\n",
              "    return {\n",
              "      response: {\n",
              "        action: 'complete',\n",
              "      }\n",
              "    };\n",
              "  }\n",
              "\n",
              "  for (const file of files) {\n",
              "    const li = document.createElement('li');\n",
              "    li.append(span(file.name, {fontWeight: 'bold'}));\n",
              "    li.append(span(\n",
              "        `(${file.type || 'n/a'}) - ${file.size} bytes, ` +\n",
              "        `last modified: ${\n",
              "            file.lastModifiedDate ? file.lastModifiedDate.toLocaleDateString() :\n",
              "                                    'n/a'} - `));\n",
              "    const percent = span('0% done');\n",
              "    li.appendChild(percent);\n",
              "\n",
              "    outputElement.appendChild(li);\n",
              "\n",
              "    const fileDataPromise = new Promise((resolve) => {\n",
              "      const reader = new FileReader();\n",
              "      reader.onload = (e) => {\n",
              "        resolve(e.target.result);\n",
              "      };\n",
              "      reader.readAsArrayBuffer(file);\n",
              "    });\n",
              "    // Wait for the data to be ready.\n",
              "    let fileData = yield {\n",
              "      promise: fileDataPromise,\n",
              "      response: {\n",
              "        action: 'continue',\n",
              "      }\n",
              "    };\n",
              "\n",
              "    // Use a chunked sending to avoid message size limits. See b/62115660.\n",
              "    let position = 0;\n",
              "    do {\n",
              "      const length = Math.min(fileData.byteLength - position, MAX_PAYLOAD_SIZE);\n",
              "      const chunk = new Uint8Array(fileData, position, length);\n",
              "      position += length;\n",
              "\n",
              "      const base64 = btoa(String.fromCharCode.apply(null, chunk));\n",
              "      yield {\n",
              "        response: {\n",
              "          action: 'append',\n",
              "          file: file.name,\n",
              "          data: base64,\n",
              "        },\n",
              "      };\n",
              "\n",
              "      let percentDone = fileData.byteLength === 0 ?\n",
              "          100 :\n",
              "          Math.round((position / fileData.byteLength) * 100);\n",
              "      percent.textContent = `${percentDone}% done`;\n",
              "\n",
              "    } while (position < fileData.byteLength);\n",
              "  }\n",
              "\n",
              "  // All done.\n",
              "  yield {\n",
              "    response: {\n",
              "      action: 'complete',\n",
              "    }\n",
              "  };\n",
              "}\n",
              "\n",
              "scope.google = scope.google || {};\n",
              "scope.google.colab = scope.google.colab || {};\n",
              "scope.google.colab._files = {\n",
              "  _uploadFiles,\n",
              "  _uploadFilesContinue,\n",
              "};\n",
              "})(self);\n",
              "</script> "
            ]
          },
          "metadata": {}
        },
        {
          "output_type": "stream",
          "name": "stdout",
          "text": [
            "Saving training.xlsx to training (3).xlsx\n",
            "Saving validation.xlsx to validation (3).xlsx\n"
          ]
        }
      ]
    },
    {
      "cell_type": "code",
      "source": [
        "train_df = pd.read_excel(\"training.xlsx\", header=None)\n",
        "val_df   = pd.read_excel(\"validation.xlsx\", header=None)\n",
        "\n",
        "# Konversi target: Iris-setosa = 0, Iris-versicolor = 1 (kolom 5)\n",
        "train_df[5] = np.where(train_df[5] == 'Iris-setosa', 0, 1)\n",
        "val_df[5]   = np.where(val_df[5] == 'Iris-setosa', 0, 1)\n",
        "\n",
        "# Pisahkan fitur (kolom 1-4) dan target (kolom 5)\n",
        "X_train = train_df.iloc[:, 1:5].values\n",
        "y_train = train_df.iloc[:, 5].values\n",
        "X_val   = val_df.iloc[:, 1:5].values\n",
        "y_val   = val_df.iloc[:, 5].values"
      ],
      "metadata": {
        "id": "rAgRb6s924LL"
      },
      "execution_count": null,
      "outputs": []
    },
    {
      "cell_type": "code",
      "source": [
        "print(X_train, y_train)"
      ],
      "metadata": {
        "colab": {
          "base_uri": "https://localhost:8080/"
        },
        "id": "f3E-p5bI_t57",
        "outputId": "ec99bc61-f3d1-4734-e0e1-837465c04bf0"
      },
      "execution_count": null,
      "outputs": [
        {
          "output_type": "stream",
          "name": "stdout",
          "text": [
            "[[5.1 3.5 1.4 0.2]\n",
            " [4.9 3.  1.4 0.2]\n",
            " [4.7 3.2 1.3 0.2]\n",
            " [4.6 3.1 1.5 0.2]\n",
            " [5.  3.6 1.4 0.2]\n",
            " [5.4 3.9 1.7 0.2]\n",
            " [4.6 3.4 1.4 0.2]\n",
            " [5.  3.4 1.5 0.2]\n",
            " [4.4 2.9 1.4 0.2]\n",
            " [4.9 3.1 1.5 0.2]\n",
            " [5.4 3.7 1.5 0.2]\n",
            " [4.8 3.4 1.6 0.2]\n",
            " [4.8 3.  1.4 0.2]\n",
            " [4.3 3.  1.1 0.2]\n",
            " [5.8 4.  1.2 0.2]\n",
            " [5.7 4.4 1.5 0.2]\n",
            " [5.4 3.9 1.3 0.2]\n",
            " [5.1 3.5 1.4 0.2]\n",
            " [5.7 3.8 1.7 0.2]\n",
            " [5.1 3.8 1.5 0.2]\n",
            " [5.4 3.4 1.7 0.2]\n",
            " [5.1 3.7 1.5 0.2]\n",
            " [4.6 3.6 1.  0.2]\n",
            " [5.1 3.3 1.7 0.2]\n",
            " [4.8 3.4 1.9 0.2]\n",
            " [5.  3.  1.6 0.2]\n",
            " [5.  3.4 1.6 0.2]\n",
            " [5.2 3.5 1.5 0.2]\n",
            " [5.2 3.4 1.4 0.2]\n",
            " [4.7 3.2 1.6 0.2]\n",
            " [4.8 3.1 1.6 0.2]\n",
            " [5.4 3.4 1.5 0.2]\n",
            " [5.2 4.1 1.5 0.2]\n",
            " [5.5 4.2 1.4 0.2]\n",
            " [4.9 3.1 1.5 0.2]\n",
            " [5.  3.2 1.2 0.2]\n",
            " [5.5 3.5 1.3 0.2]\n",
            " [4.9 3.1 1.5 0.2]\n",
            " [4.4 3.  1.3 0.2]\n",
            " [5.1 3.4 1.5 0.2]\n",
            " [7.  3.2 4.7 0.2]\n",
            " [6.4 3.2 4.5 0.2]\n",
            " [6.9 3.1 4.9 0.2]\n",
            " [5.5 2.3 4.  0.2]\n",
            " [6.5 2.8 4.6 0.2]\n",
            " [5.7 2.8 4.5 0.2]\n",
            " [6.3 3.3 4.7 0.2]\n",
            " [4.9 2.4 3.3 0.2]\n",
            " [6.6 2.9 4.6 0.2]\n",
            " [5.2 2.7 3.9 0.2]\n",
            " [5.  2.  3.5 0.2]\n",
            " [5.9 3.  4.2 0.2]\n",
            " [6.  2.2 4.  0.2]\n",
            " [6.1 2.9 4.7 0.2]\n",
            " [5.6 2.9 3.6 0.2]\n",
            " [6.7 3.1 4.4 0.2]\n",
            " [5.6 3.  4.5 0.2]\n",
            " [5.8 2.7 4.1 0.2]\n",
            " [6.2 2.2 4.5 0.2]\n",
            " [5.6 2.5 3.9 0.2]\n",
            " [5.9 3.2 4.8 0.2]\n",
            " [6.1 2.8 4.  0.2]\n",
            " [6.3 2.5 4.9 0.2]\n",
            " [6.1 2.8 4.7 0.2]\n",
            " [6.4 2.9 4.3 0.2]\n",
            " [6.6 3.  4.4 0.2]\n",
            " [6.8 2.8 4.8 0.2]\n",
            " [6.7 3.  5.  0.2]\n",
            " [6.  2.9 4.5 0.2]\n",
            " [5.7 2.6 3.5 0.2]\n",
            " [5.5 2.4 3.8 0.2]\n",
            " [5.5 2.4 3.7 0.2]\n",
            " [5.8 2.7 3.9 0.2]\n",
            " [6.  2.7 5.1 0.2]\n",
            " [5.4 3.  4.5 0.2]\n",
            " [6.  3.4 4.5 0.2]\n",
            " [6.7 3.1 4.7 0.2]\n",
            " [6.3 2.3 4.4 0.2]\n",
            " [5.6 3.  4.1 0.2]\n",
            " [5.5 2.5 4.  0.2]] [0 0 0 0 0 0 0 0 0 0 0 0 0 0 0 0 0 0 0 0 0 0 0 0 0 0 0 0 0 0 0 0 0 0 0 0 0\n",
            " 0 0 0 1 1 1 1 1 1 1 1 1 1 1 1 1 1 1 1 1 1 1 1 1 1 1 1 1 1 1 1 1 1 1 1 1 1\n",
            " 1 1 1 1 1 1]\n"
          ]
        }
      ]
    },
    {
      "cell_type": "markdown",
      "source": [
        "##Tahap 2: Mendefinisikan Fungsi"
      ],
      "metadata": {
        "id": "G1OpTsDpNsbM"
      }
    },
    {
      "cell_type": "code",
      "source": [
        "def init_params():\n",
        "    weight = np.full(X_train.shape[1], 0.5)  # semua 0.5\n",
        "    bias = 0.5\n",
        "    learning_rate = 0.1\n",
        "    return weight, bias, learning_rate\n",
        "\n",
        "# 2. Dot product\n",
        "def dot_product(X, weight, bias):\n",
        "    return np.dot(X, weight) + bias\n",
        "\n",
        "# 3. Aktivasi sigmoid\n",
        "def sigmoid(z):\n",
        "    return 1 / (1 + np.exp(-z))\n",
        "\n",
        "# 4. Error function (square error)\n",
        "def square_error(pred, target):\n",
        "    return (pred - target) ** 2\n",
        "\n",
        "# 5. Update bobot & bias\n",
        "def update_params(X, pred, target, weight, bias, learning_rate):\n",
        "    d_error = 2 * (pred - target) * pred * (1 - pred)  # turunan sigmoid\n",
        "    weight -= learning_rate * d_error * X\n",
        "    bias -= learning_rate * d_error\n",
        "    return weight, bias\n",
        "\n",
        "# 6. Prediksi\n",
        "def predict(X, weight, bias):\n",
        "    return 1 if sigmoid(dot_product(X, weight, bias)) > 0.5 else 0\n",
        "\n",
        "# 7. Akurasi\n",
        "def accuracy(preds, targets):\n",
        "    return np.mean(np.array(preds) == np.array(targets))"
      ],
      "metadata": {
        "id": "ISh3yWJLx_7s"
      },
      "execution_count": null,
      "outputs": []
    },
    {
      "cell_type": "markdown",
      "source": [
        "##Tahap 3: Training dan Validasi\n"
      ],
      "metadata": {
        "id": "amlPW-m7R9JU"
      }
    },
    {
      "cell_type": "code",
      "source": [
        "def train_and_validate(epochs=5):\n",
        "    weight, bias, lr = init_params()\n",
        "    train_errors, val_errors = [], []\n",
        "    train_accs, val_accs = [], []\n",
        "\n",
        "    print(\"=== TRAINING & VALIDATION ===\")\n",
        "    for epoch in range(epochs):\n",
        "        total_error_train, total_error_val = 0, 0\n",
        "        preds_train, preds_val = [], []\n",
        "\n",
        "        print(f\"\\n--- Epoch {epoch+1} ---\")\n",
        "\n",
        "        # === TRAINING LOOP ===\n",
        "        for i in range(len(X_train)):\n",
        "            z = dot_product(X_train[i], weight, bias)   # dot product\n",
        "            f = sigmoid(z)\n",
        "            err = square_error(f, y_train[i])\n",
        "            pred = 1 if f > 0.5 else 0\n",
        "\n",
        "            # Update bobot & bias\n",
        "            weight, bias = update_params(X_train[i], f, y_train[i], weight, bias, lr)\n",
        "\n",
        "            # Akumulasi\n",
        "            total_error_train += err\n",
        "            preds_train.append(pred)\n",
        "\n",
        "            #print(f\"[Train] Idx={i}, Target={y_train[i]}, \"\n",
        "            #      f\"z={z:.4f}, f={f:.4f}, Pred={pred}, \"\n",
        "            #      f\"Err={err:.4f}, Weights={weight}, Bias={bias:.4f}\")\n",
        "\n",
        "        avg_error_train = total_error_train / len(X_train)\n",
        "        acc_train = accuracy(preds_train, y_train)\n",
        "        train_errors.append(avg_error_train)\n",
        "        train_accs.append(acc_train)\n",
        "\n",
        "        # === VALIDATION LOOP === (no update bobot)\n",
        "        for j in range(len(X_val)):\n",
        "            z = dot_product(X_val[j], weight, bias)\n",
        "            f = sigmoid(z)\n",
        "            err = square_error(f, y_val[j])\n",
        "            pred = 1 if f > 0.5 else 0\n",
        "\n",
        "            total_error_val += err\n",
        "            preds_val.append(pred)\n",
        "\n",
        "            #print(f\"[Val]   Idx={j}, Target={y_val[j]}, \"\n",
        "            #      f\"z={z:.4f}, f={f:.4f}, Pred={pred}, Err={err:.4f}\")\n",
        "\n",
        "        avg_error_val = total_error_val / len(X_val)\n",
        "        acc_val = accuracy(preds_val, y_val)\n",
        "        val_errors.append(avg_error_val)\n",
        "        val_accs.append(acc_val)\n",
        "\n",
        "        print(f\"--- Epoch {epoch+1} Summary --- \"\n",
        "              f\"Train Error={avg_error_train:.4f}, Train Acc={acc_train:.4f}, \"\n",
        "              f\"Val Error={avg_error_val:.4f}, Val Acc={acc_val:.4f}\")\n",
        "\n",
        "    return train_errors, val_errors, train_accs, val_accs, weight, bias"
      ],
      "metadata": {
        "id": "Nij3t9_lyG6o"
      },
      "execution_count": null,
      "outputs": []
    },
    {
      "cell_type": "code",
      "source": [
        "train_errors, val_errors, train_accs, val_accs, final_w, final_b = train_and_validate(epochs=5)"
      ],
      "metadata": {
        "colab": {
          "base_uri": "https://localhost:8080/"
        },
        "id": "9LDvP7Ye2J7J",
        "outputId": "ad93f938-3ebe-41eb-a164-675868e5e182"
      },
      "execution_count": null,
      "outputs": [
        {
          "output_type": "stream",
          "name": "stdout",
          "text": [
            "=== TRAINING & VALIDATION ===\n",
            "\n",
            "--- Epoch 1 ---\n",
            "--- Epoch 1 Summary --- Train Error=0.4494, Train Acc=0.5250, Val Error=0.3712, Val Acc=0.5000\n",
            "\n",
            "--- Epoch 2 ---\n",
            "--- Epoch 2 Summary --- Train Error=0.0512, Train Acc=0.9375, Val Error=0.2989, Val Acc=0.5000\n",
            "\n",
            "--- Epoch 3 ---\n",
            "--- Epoch 3 Summary --- Train Error=0.0332, Train Acc=0.9500, Val Error=0.2278, Val Acc=0.5000\n",
            "\n",
            "--- Epoch 4 ---\n",
            "--- Epoch 4 Summary --- Train Error=0.0231, Train Acc=0.9750, Val Error=0.1656, Val Acc=0.5000\n",
            "\n",
            "--- Epoch 5 ---\n",
            "--- Epoch 5 Summary --- Train Error=0.0171, Train Acc=0.9750, Val Error=0.1160, Val Acc=0.9000\n"
          ]
        }
      ]
    },
    {
      "cell_type": "code",
      "source": [
        "# ---------------- Grafik Error ----------------\n",
        "plt.figure(figsize=(8,5))\n",
        "plt.plot(range(1,6), train_errors, marker='o', label=\"Training Error\")\n",
        "plt.plot(range(1,6), val_errors, marker='s', label=\"Validation Error\")\n",
        "plt.xlabel(\"Epoch\")\n",
        "plt.ylabel(\"Error\")\n",
        "plt.title(\"Training vs Validation Error (5 Epoch)\")\n",
        "plt.legend()\n",
        "plt.grid(True)\n",
        "plt.show()"
      ],
      "metadata": {
        "colab": {
          "base_uri": "https://localhost:8080/",
          "height": 487
        },
        "id": "0Am1rhzS1RYj",
        "outputId": "1b531705-a00d-423f-94d1-1408419269bd"
      },
      "execution_count": null,
      "outputs": [
        {
          "output_type": "display_data",
          "data": {
            "text/plain": [
              "<Figure size 800x500 with 1 Axes>"
            ],
            "image/png": "[encoded data removed]"
          },
          "metadata": {}
        }
      ]
    },
    {
      "cell_type": "code",
      "source": [
        "# ---------------- Grafik Akurasi ----------------\n",
        "plt.figure(figsize=(8,5))\n",
        "plt.plot(range(1,6), train_accs, marker='o', label=\"Training Accuracy\")\n",
        "plt.plot(range(1,6), val_accs, marker='s', label=\"Validation Accuracy\")\n",
        "plt.xlabel(\"Epoch\")\n",
        "plt.ylabel(\"Accuracy\")\n",
        "plt.title(\"Training vs Validation Accuracy (5 Epoch)\")\n",
        "plt.legend()\n",
        "plt.grid(True)\n",
        "plt.show()"
      ],
      "metadata": {
        "colab": {
          "base_uri": "https://localhost:8080/",
          "height": 487
        },
        "id": "a2dsN0EF2Wom",
        "outputId": "c9fdea02-6877-4415-8381-ec1cd3ca54a6"
      },
      "execution_count": null,
      "outputs": [
        {
          "output_type": "display_data",
          "data": {
            "text/plain": [
              "<Figure size 800x500 with 1 Axes>"
            ],
            "image/png": "[encoded data removed]"
          },
          "metadata": {}
        }
      ]
    },
    {
      "cell_type": "code",
      "source": [
        "results = pd.DataFrame({\n",
        "    \"Epoch\": range(1,6),\n",
        "    \"Train Error\": train_errors,\n",
        "    \"Val Error\": val_errors,\n",
        "    \"Train Acc\": train_accs,\n",
        "    \"Val Acc\": val_accs\n",
        "})\n",
        "print(\"\\nHasil Training & Validation (5 Epoch):\")\n",
        "print(results.to_string(index=False))"
      ],
      "metadata": {
        "id": "ctFiyYDQjHfH",
        "colab": {
          "base_uri": "https://localhost:8080/"
        },
        "outputId": "9e67c726-87b3-4a4f-870b-a974178b3f3e"
      },
      "execution_count": null,
      "outputs": [
        {
          "output_type": "stream",
          "name": "stdout",
          "text": [
            "\n",
            "Hasil Training & Validation (5 Epoch):\n",
            " Epoch  Train Error  Val Error  Train Acc  Val Acc\n",
            "     1     0.408548   0.410788     0.5250      0.5\n",
            "     2     0.003935   0.365588     0.9375      0.5\n",
            "     3     0.005755   0.315934     0.9500      0.5\n",
            "     4     0.007390   0.265576     0.9750      0.5\n",
            "     5     0.008190   0.217746     0.9750      0.9\n"
          ]
        }
      ]
    }
  ]
}